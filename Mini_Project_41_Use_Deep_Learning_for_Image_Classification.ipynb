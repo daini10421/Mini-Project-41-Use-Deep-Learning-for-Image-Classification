{
  "metadata": {
    "kernelspec": {
      "language": "python",
      "display_name": "Python 3",
      "name": "python3"
    },
    "language_info": {
      "pygments_lexer": "ipython3",
      "nbconvert_exporter": "python",
      "version": "3.6.4",
      "file_extension": ".py",
      "codemirror_mode": {
        "name": "ipython",
        "version": 3
      },
      "name": "python",
      "mimetype": "text/x-python"
    },
    "colab": {
      "provenance": [],
      "include_colab_link": true
    }
  },
  "nbformat_minor": 0,
  "nbformat": 4,
  "cells": [
    {
      "cell_type": "markdown",
      "metadata": {
        "id": "view-in-github",
        "colab_type": "text"
      },
      "source": [
        "<a href=\"https://colab.research.google.com/github/daini10421/Mini-Project-41-Use-Deep-Learning-for-Image-Classification/blob/main/Mini_Project_41_Use_Deep_Learning_for_Image_Classification.ipynb\" target=\"_parent\"><img src=\"https://colab.research.google.com/assets/colab-badge.svg\" alt=\"Open In Colab\"/></a>"
      ]
    },
    {
      "cell_type": "markdown",
      "source": [
        "# Basics of Deep Learning:Classification\n",
        "\n",
        "In this notebook I will be showing you a simple model that can be used for classification and also show the importance of model architecture by comparing it with a CNN based algorithm on Cifar-10 Dataset"
      ],
      "metadata": {
        "id": "1DitrhugFmS2"
      }
    },
    {
      "cell_type": "markdown",
      "source": [
        "# 1 Import Libraries"
      ],
      "metadata": {
        "id": "zHW6bTF3FmS_"
      }
    },
    {
      "cell_type": "code",
      "source": [
        "import tensorflow as tf\n",
        "import numpy as np\n",
        "import matplotlib.pyplot as plt\n",
        "from tensorflow.keras.layers import Input, Conv2D, Dense, Flatten, Dropout\n",
        "from tensorflow.keras.layers import GlobalMaxPooling2D, MaxPooling2D\n",
        "from tensorflow.keras.layers import BatchNormalization\n",
        "from tensorflow.keras.models import Model\n",
        "from keras.models import Sequential\n",
        "from keras.layers import Conv2D, MaxPooling2D, Flatten, Dense, Dropout, BatchNormalization\n",
        "from keras.callbacks import EarlyStopping, ReduceLROnPlateau\n"
      ],
      "metadata": {
        "execution": {
          "iopub.status.busy": "2023-07-04T01:00:46.575644Z",
          "iopub.execute_input": "2023-07-04T01:00:46.576264Z",
          "iopub.status.idle": "2023-07-04T01:00:54.670276Z",
          "shell.execute_reply.started": "2023-07-04T01:00:46.576235Z",
          "shell.execute_reply": "2023-07-04T01:00:54.669303Z"
        },
        "trusted": true,
        "id": "yRRPhYHnFmTB"
      },
      "execution_count": null,
      "outputs": []
    },
    {
      "cell_type": "markdown",
      "source": [
        "# 2 Load Dataset"
      ],
      "metadata": {
        "id": "GQGsaEh9FmTD"
      }
    },
    {
      "cell_type": "code",
      "source": [
        "cifar10 = tf.keras.datasets.cifar10\n",
        "\n",
        "# Distribute it to train and test set\n",
        "(x_train, y_train), (x_test, y_test) = cifar10.load_data()\n",
        "print(x_train.shape, y_train.shape, x_test.shape, y_test.shape)"
      ],
      "metadata": {
        "execution": {
          "iopub.status.busy": "2023-07-04T01:00:54.672624Z",
          "iopub.execute_input": "2023-07-04T01:00:54.673708Z",
          "iopub.status.idle": "2023-07-04T01:01:10.007189Z",
          "shell.execute_reply.started": "2023-07-04T01:00:54.673674Z",
          "shell.execute_reply": "2023-07-04T01:01:10.005342Z"
        },
        "trusted": true,
        "id": "ALkmps66FmTE"
      },
      "execution_count": null,
      "outputs": []
    },
    {
      "cell_type": "markdown",
      "source": [
        "# 3 Preprocessing"
      ],
      "metadata": {
        "id": "quDVgopvFmTE"
      }
    },
    {
      "cell_type": "code",
      "source": [
        "# Reduce pixel values\n",
        "x_train, x_test = x_train / 255.0, x_test / 255.0\n",
        "\n",
        "# flatten the label values\n",
        "y_train, y_test = y_train.flatten(), y_test.flatten()"
      ],
      "metadata": {
        "execution": {
          "iopub.status.busy": "2023-07-04T01:01:10.008403Z",
          "iopub.execute_input": "2023-07-04T01:01:10.008752Z",
          "iopub.status.idle": "2023-07-04T01:01:10.482132Z",
          "shell.execute_reply.started": "2023-07-04T01:01:10.008721Z",
          "shell.execute_reply": "2023-07-04T01:01:10.481133Z"
        },
        "trusted": true,
        "id": "XmxRWfMMFmTF"
      },
      "execution_count": null,
      "outputs": []
    },
    {
      "cell_type": "code",
      "source": [
        "fig, ax = plt.subplots(5, 5)\n",
        "k = 0\n",
        "\n",
        "for i in range(5):\n",
        "    for j in range(5):\n",
        "        ax[i][j].imshow(x_train[k], aspect='auto')\n",
        "        k += 1\n",
        "\n",
        "plt.show()"
      ],
      "metadata": {
        "execution": {
          "iopub.status.busy": "2023-07-04T01:01:10.484271Z",
          "iopub.execute_input": "2023-07-04T01:01:10.485325Z",
          "iopub.status.idle": "2023-07-04T01:01:13.06289Z",
          "shell.execute_reply.started": "2023-07-04T01:01:10.485285Z",
          "shell.execute_reply": "2023-07-04T01:01:13.061971Z"
        },
        "trusted": true,
        "id": "udLFUgMzFmTF"
      },
      "execution_count": null,
      "outputs": []
    },
    {
      "cell_type": "markdown",
      "source": [
        "# 4 Basic Model\n",
        "# 4.1 Defining the model"
      ],
      "metadata": {
        "id": "O5tVCNGKFmTG"
      }
    },
    {
      "cell_type": "code",
      "source": [
        "# Define the sequential model\n",
        "model = tf.keras.Sequential([\n",
        "    # Flattening the input\n",
        "    tf.keras.layers.Flatten(input_shape=(32, 32, 3)),  # Input Layer\n",
        "\n",
        "    # Hidden layer with 256 units and ReLU activation\n",
        "    tf.keras.layers.Dense(256, activation='relu'),  # First Hidden Layer\n",
        "\n",
        "    # Hidden layer with 128 units and ReLU activation\n",
        "    tf.keras.layers.Dense(128, activation='relu'),  # Second Hidden Layer\n",
        "\n",
        "    # Hidden layer with 64 units and ReLU activation\n",
        "    tf.keras.layers.Dense(64, activation='relu'),  # Third Hidden Layer\n",
        "\n",
        "    # Output layer with 10 units for class probabilities\n",
        "    tf.keras.layers.Dense(10, activation='softmax')  # Output Layer\n",
        "])\n"
      ],
      "metadata": {
        "execution": {
          "iopub.status.busy": "2023-07-04T01:01:26.392572Z",
          "iopub.execute_input": "2023-07-04T01:01:26.392949Z",
          "iopub.status.idle": "2023-07-04T01:01:28.943733Z",
          "shell.execute_reply.started": "2023-07-04T01:01:26.392919Z",
          "shell.execute_reply": "2023-07-04T01:01:28.942758Z"
        },
        "trusted": true,
        "id": "V9rUkg-QFmTG"
      },
      "execution_count": null,
      "outputs": []
    },
    {
      "cell_type": "markdown",
      "source": [
        "# 4.2 Compile the model"
      ],
      "metadata": {
        "id": "jqnMHrStFmTH"
      }
    },
    {
      "cell_type": "code",
      "source": [
        "# Compile the model\n",
        "model.compile(optimizer='adam',\n",
        "              loss='sparse_categorical_crossentropy',\n",
        "              metrics=['accuracy'])\n",
        "\n",
        "# Print the model summary\n",
        "model.summary()"
      ],
      "metadata": {
        "execution": {
          "iopub.status.busy": "2023-07-04T01:01:28.945654Z",
          "iopub.execute_input": "2023-07-04T01:01:28.946058Z",
          "iopub.status.idle": "2023-07-04T01:01:28.982904Z",
          "shell.execute_reply.started": "2023-07-04T01:01:28.946023Z",
          "shell.execute_reply": "2023-07-04T01:01:28.982175Z"
        },
        "trusted": true,
        "id": "J884AXdqFmTH"
      },
      "execution_count": null,
      "outputs": []
    },
    {
      "cell_type": "markdown",
      "source": [
        "# 4.3 Training the model"
      ],
      "metadata": {
        "id": "fvsXtU4VFmTI"
      }
    },
    {
      "cell_type": "code",
      "source": [
        "%%time\n",
        "# Fit the model\n",
        "history = model.fit(x_train, y_train, validation_data=(x_test, y_test), epochs=25)"
      ],
      "metadata": {
        "execution": {
          "iopub.status.busy": "2023-07-04T01:01:28.984344Z",
          "iopub.execute_input": "2023-07-04T01:01:28.984689Z"
        },
        "trusted": true,
        "id": "E2A640bYFmTI"
      },
      "execution_count": null,
      "outputs": []
    },
    {
      "cell_type": "markdown",
      "source": [
        "# 4.4 Evaluate the model"
      ],
      "metadata": {
        "id": "vJU0ucPnFmTI"
      }
    },
    {
      "cell_type": "code",
      "source": [
        "# Plot accuracy per iteration\n",
        "plt.plot(history.history['accuracy'], label='acc', color='red')\n",
        "plt.plot(history.history['val_accuracy'], label='val_acc', color='green')\n",
        "plt.legend()"
      ],
      "metadata": {
        "trusted": true,
        "id": "MqqL7y0uFmTJ"
      },
      "execution_count": null,
      "outputs": []
    },
    {
      "cell_type": "code",
      "source": [
        "# Evaluate the model on test data\n",
        "test_loss, test_accuracy = model.evaluate(x_test, y_test)\n",
        "print(f'Test loss: {test_loss}')\n",
        "print(f'Test accuracy: {test_accuracy}')"
      ],
      "metadata": {
        "trusted": true,
        "id": "gD-02X9ZFmTJ"
      },
      "execution_count": null,
      "outputs": []
    },
    {
      "cell_type": "markdown",
      "source": [
        "# 5 CNN Based Architecture\n",
        "# 5.1 Defining the Model"
      ],
      "metadata": {
        "id": "hj09IK98FmTJ"
      }
    },
    {
      "cell_type": "code",
      "source": [
        "\n",
        "# Define the number of classes\n",
        "K = len(set(y_train))\n",
        "print(\"Number of classes:\", K)\n",
        "\n",
        "# Build the model\n",
        "model = Sequential()\n",
        "\n",
        "# Convolutional layers\n",
        "model.add(Conv2D(32, (3, 3), activation='relu', padding='same', input_shape=x_train.shape[1:]))\n",
        "model.add(BatchNormalization())\n",
        "model.add(Conv2D(32, (3, 3), activation='relu', padding='same'))\n",
        "model.add(BatchNormalization())\n",
        "model.add(MaxPooling2D((2, 2)))\n",
        "\n",
        "model.add(Conv2D(64, (3, 3), activation='relu', padding='same'))\n",
        "model.add(BatchNormalization())\n",
        "model.add(Conv2D(64, (3, 3), activation='relu', padding='same'))\n",
        "model.add(BatchNormalization())\n",
        "model.add(MaxPooling2D((2, 2)))\n",
        "\n",
        "model.add(Conv2D(128, (3, 3), activation='relu', padding='same'))\n",
        "model.add(BatchNormalization())\n",
        "model.add(Conv2D(128, (3, 3), activation='relu', padding='same'))\n",
        "model.add(BatchNormalization())\n",
        "model.add(MaxPooling2D((2, 2)))\n",
        "\n",
        "model.add(Flatten())\n",
        "model.add(Dropout(0.2))\n",
        "\n",
        "# Hidden layers\n",
        "model.add(Dense(1024, activation='relu'))\n",
        "model.add(Dropout(0.2))\n",
        "\n",
        "# Output layer\n",
        "model.add(Dense(K, activation='softmax'))\n",
        "\n",
        "# Model summary\n",
        "model.summary()\n"
      ],
      "metadata": {
        "execution": {
          "iopub.status.busy": "2023-07-01T10:28:38.520045Z",
          "iopub.execute_input": "2023-07-01T10:28:38.520446Z",
          "iopub.status.idle": "2023-07-01T10:30:05.766646Z",
          "shell.execute_reply.started": "2023-07-01T10:28:38.520414Z",
          "shell.execute_reply": "2023-07-01T10:30:05.765859Z"
        },
        "trusted": true,
        "id": "cYgKDlkkFmTK"
      },
      "execution_count": null,
      "outputs": []
    },
    {
      "cell_type": "markdown",
      "source": [
        "# 5.2 Compile the model"
      ],
      "metadata": {
        "id": "xzfPLIVcFmTK"
      }
    },
    {
      "cell_type": "code",
      "source": [
        "# Compile\n",
        "model.compile(optimizer='adam',\n",
        "              loss='sparse_categorical_crossentropy',\n",
        "              metrics=['accuracy'])"
      ],
      "metadata": {
        "execution": {
          "iopub.status.busy": "2023-07-01T10:30:05.768253Z",
          "iopub.execute_input": "2023-07-01T10:30:05.768598Z",
          "iopub.status.idle": "2023-07-01T10:30:05.794478Z",
          "shell.execute_reply.started": "2023-07-01T10:30:05.768567Z",
          "shell.execute_reply": "2023-07-01T10:30:05.793627Z"
        },
        "trusted": true,
        "id": "hMbNPlKcFmTL"
      },
      "execution_count": null,
      "outputs": []
    },
    {
      "cell_type": "markdown",
      "source": [
        "# 5.3 Define Callbacks"
      ],
      "metadata": {
        "id": "If1jEwj0FmTM"
      }
    },
    {
      "cell_type": "code",
      "source": [
        "\n",
        "# Define the callbacks\n",
        "early_stopping = EarlyStopping(monitor='val_loss', patience=5, restore_best_weights=True)\n",
        "reduce_lr = ReduceLROnPlateau(monitor='val_loss', factor=0.1, patience=5, min_lr=0.00001)\n"
      ],
      "metadata": {
        "execution": {
          "iopub.status.busy": "2023-07-01T10:30:05.795739Z",
          "iopub.execute_input": "2023-07-01T10:30:05.796079Z",
          "iopub.status.idle": "2023-07-01T10:30:05.803403Z",
          "shell.execute_reply.started": "2023-07-01T10:30:05.796045Z",
          "shell.execute_reply": "2023-07-01T10:30:05.801241Z"
        },
        "trusted": true,
        "id": "XvJRwJ62FmTM"
      },
      "execution_count": null,
      "outputs": []
    },
    {
      "cell_type": "markdown",
      "source": [
        "# 5.4 Train the model"
      ],
      "metadata": {
        "id": "dQfZZ5oeFmTN"
      }
    },
    {
      "cell_type": "code",
      "source": [
        "\n",
        "%%time\n",
        "# Fit\n",
        "r = model.fit(\n",
        "  x_train, y_train, validation_data=(x_test, y_test), epochs=50,\n",
        "  callbacks=[early_stopping, reduce_lr])"
      ],
      "metadata": {
        "_kg_hide-output": true,
        "execution": {
          "iopub.status.busy": "2023-07-01T10:30:05.806786Z",
          "iopub.execute_input": "2023-07-01T10:30:05.807751Z",
          "iopub.status.idle": "2023-07-01T10:32:10.160749Z",
          "shell.execute_reply.started": "2023-07-01T10:30:05.807703Z",
          "shell.execute_reply": "2023-07-01T10:32:10.159606Z"
        },
        "trusted": true,
        "id": "h1RdfwMKFmTN"
      },
      "execution_count": null,
      "outputs": []
    },
    {
      "cell_type": "markdown",
      "source": [
        "# 5.5 Evaluating the model"
      ],
      "metadata": {
        "id": "JXO_SuZcFmTO"
      }
    },
    {
      "cell_type": "code",
      "source": [
        "# Plot accuracy per iteration\n",
        "plt.plot(r.history['accuracy'], label='acc', color='red')\n",
        "plt.plot(r.history['val_accuracy'], label='val_acc', color='green')\n",
        "plt.legend()"
      ],
      "metadata": {
        "execution": {
          "iopub.status.busy": "2023-07-01T10:32:10.162696Z",
          "iopub.execute_input": "2023-07-01T10:32:10.163379Z",
          "iopub.status.idle": "2023-07-01T10:32:10.465063Z",
          "shell.execute_reply.started": "2023-07-01T10:32:10.163343Z",
          "shell.execute_reply": "2023-07-01T10:32:10.464159Z"
        },
        "trusted": true,
        "id": "BtNVTyUDFmTO"
      },
      "execution_count": null,
      "outputs": []
    },
    {
      "cell_type": "code",
      "source": [
        "# Evaluate the model on test data\n",
        "test_loss, test_accuracy = model.evaluate(x_test, y_test)\n",
        "print(f'Test loss: {test_loss}')\n",
        "print(f'Test accuracy: {test_accuracy}')\n"
      ],
      "metadata": {
        "execution": {
          "iopub.status.busy": "2023-07-01T10:32:10.466454Z",
          "iopub.execute_input": "2023-07-01T10:32:10.467228Z",
          "iopub.status.idle": "2023-07-01T10:32:12.132015Z",
          "shell.execute_reply.started": "2023-07-01T10:32:10.467194Z",
          "shell.execute_reply": "2023-07-01T10:32:12.130838Z"
        },
        "trusted": true,
        "id": "55-Re1MLFmTP"
      },
      "execution_count": null,
      "outputs": []
    },
    {
      "cell_type": "markdown",
      "source": [
        "# 5.6 Checking the final model with the some examples"
      ],
      "metadata": {
        "id": "l51KdpKgFmTP"
      }
    },
    {
      "cell_type": "code",
      "source": [
        "# label mapping\n",
        "\n",
        "labels = '''airplane automobile bird cat deer dog frog horseship truck'''.split()\n",
        "\n",
        "# select the image from our test dataset\n",
        "image_number = 290\n",
        "\n",
        "# display the image\n",
        "plt.imshow(x_test[image_number])\n",
        "\n",
        "# load the image in an array\n",
        "n = np.array(x_test[image_number])\n",
        "\n",
        "# reshape it\n",
        "p = n.reshape(1, 32, 32, 3)\n",
        "\n",
        "# pass in the network for prediction and\n",
        "# save the predicted label\n",
        "predicted_label = labels[model.predict(p).argmax()]\n",
        "\n",
        "# load the original label\n",
        "original_label = labels[y_test[image_number]]\n",
        "\n",
        "# display the result\n",
        "print(\"Original label is {} and predicted label is {}\".format(\n",
        "    original_label, predicted_label))"
      ],
      "metadata": {
        "execution": {
          "iopub.status.busy": "2023-07-01T10:32:12.13356Z",
          "iopub.execute_input": "2023-07-01T10:32:12.134162Z",
          "iopub.status.idle": "2023-07-01T10:32:12.695162Z",
          "shell.execute_reply.started": "2023-07-01T10:32:12.134128Z",
          "shell.execute_reply": "2023-07-01T10:32:12.694189Z"
        },
        "trusted": true,
        "id": "yyW0E2dWFmTQ"
      },
      "execution_count": null,
      "outputs": []
    },
    {
      "cell_type": "markdown",
      "source": [
        "# Thank You for Reading"
      ],
      "metadata": {
        "id": "u_WVBDIAFmTR"
      }
    }
  ]
}